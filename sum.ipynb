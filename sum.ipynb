{
 "cells": [
  {
   "cell_type": "code",
   "execution_count": 13,
   "metadata": {},
   "outputs": [
    {
     "name": "stdout",
     "output_type": "stream",
     "text": [
      "Sum of numbers: 20\n"
     ]
    }
   ],
   "source": [
    "#sum of 'n' numbers of integers\n",
    "n = int(input(\"Enter the number of elements: \"))\n",
    "numbers = [int(input()) for _ in range(n)]\n",
    "\n",
    "sum_of_numbers = sum(numbers)\n",
    "print(\"Sum of numbers:\", sum_of_numbers)"
   ]
  },
  {
   "cell_type": "code",
   "execution_count": 15,
   "metadata": {},
   "outputs": [
    {
     "name": "stdout",
     "output_type": "stream",
     "text": [
      "Sum of numbers: 2.3\n"
     ]
    }
   ],
   "source": [
    "#sum of 'n' numbers of decimals\n",
    "n= int(input(\"Enter the number of elements: \"))\n",
    "numbers = [float(input()) for _ in range(n)]\n",
    "\n",
    "sum_of_numbers = sum(numbers)\n",
    "print(\"Sum of numbers:\", sum_of_numbers)"
   ]
  }
 ],
 "metadata": {
  "kernelspec": {
   "display_name": "Python 3",
   "language": "python",
   "name": "python3"
  },
  "language_info": {
   "codemirror_mode": {
    "name": "ipython",
    "version": 3
   },
   "file_extension": ".py",
   "mimetype": "text/x-python",
   "name": "python",
   "nbconvert_exporter": "python",
   "pygments_lexer": "ipython3",
   "version": "3.12.1"
  }
 },
 "nbformat": 4,
 "nbformat_minor": 2
}
