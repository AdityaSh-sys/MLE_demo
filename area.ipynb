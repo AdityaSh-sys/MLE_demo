{
 "cells": [
  {
   "cell_type": "code",
   "execution_count": 13,
   "metadata": {},
   "outputs": [],
   "source": [
    "import math as m"
   ]
  },
  {
   "cell_type": "code",
   "execution_count": 14,
   "metadata": {},
   "outputs": [],
   "source": [
    "#area of square\n",
    "def area_of_square(side):\n",
    "    return side**2\n"
   ]
  },
  {
   "cell_type": "code",
   "execution_count": 15,
   "metadata": {},
   "outputs": [],
   "source": [
    "#area of rectangle\n",
    "def area_of_rectangle(length,breadth):\n",
    "    return length*breadth\n"
   ]
  },
  {
   "cell_type": "code",
   "execution_count": 16,
   "metadata": {},
   "outputs": [],
   "source": [
    "from math import pi"
   ]
  },
  {
   "cell_type": "code",
   "execution_count": 17,
   "metadata": {},
   "outputs": [],
   "source": [
    "#area of circle\n",
    "def area_of_circle(radius):\n",
    "    return pi*radius**2\n"
   ]
  },
  {
   "cell_type": "code",
   "execution_count": 24,
   "metadata": {},
   "outputs": [
    {
     "name": "stdout",
     "output_type": "stream",
     "text": [
      "shape not found\n"
     ]
    }
   ],
   "source": [
    "choose = input(\"Enter the shape you want to calculate the area of: \")\n",
    "if choose == \"square\":\n",
    "    side = float(input(\"Enter side: \"))\n",
    "    print(\"Area of square is:\", area_of_square(side))\n",
    "elif choose == \"rectangle\":\n",
    "    length = float(input(\"Enter length: \"))\n",
    "    breadth = float(input(\"Enter breadth: \"))\n",
    "    print(\"Area of rectangle is:\", area_of_rectangle(length, breadth))\n",
    "elif choose == \"circle\":\n",
    "    radius = float(input(\"Enter radius: \"))  \n",
    "    print(\"Area of circle is:\", area_of_circle(radius))\n",
    "else:\n",
    "    print(\"shape not found\")\n"
   ]
  }
 ],
 "metadata": {
  "kernelspec": {
   "display_name": "Python 3",
   "language": "python",
   "name": "python3"
  },
  "language_info": {
   "codemirror_mode": {
    "name": "ipython",
    "version": 3
   },
   "file_extension": ".py",
   "mimetype": "text/x-python",
   "name": "python",
   "nbconvert_exporter": "python",
   "pygments_lexer": "ipython3",
   "version": "3.12.1"
  }
 },
 "nbformat": 4,
 "nbformat_minor": 2
}
