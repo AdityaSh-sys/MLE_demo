{
 "cells": [
  {
   "cell_type": "code",
   "execution_count": 56,
   "metadata": {},
   "outputs": [],
   "source": [
    "import pandas as pd\n",
    "import numpy as np\n",
    "import matplotlib.pyplot as plt\n",
    "import scipy.stats as s\n",
    "import scipy.optimize as opt\n",
    "import seaborn as sns"
   ]
  },
  {
   "cell_type": "code",
   "execution_count": 57,
   "metadata": {},
   "outputs": [],
   "source": [
    "from scipy.stats import bernoulli\n",
    "import random"
   ]
  },
  {
   "cell_type": "code",
   "execution_count": 58,
   "metadata": {},
   "outputs": [],
   "source": [
    "training_data = pd.DataFrame(data={\"x\":np.random.binomial(n=1,p=0.5,size=1000)})"
   ]
  },
  {
   "cell_type": "code",
   "execution_count": 59,
   "metadata": {},
   "outputs": [
    {
     "data": {
      "text/html": [
       "<div>\n",
       "<style scoped>\n",
       "    .dataframe tbody tr th:only-of-type {\n",
       "        vertical-align: middle;\n",
       "    }\n",
       "\n",
       "    .dataframe tbody tr th {\n",
       "        vertical-align: top;\n",
       "    }\n",
       "\n",
       "    .dataframe thead th {\n",
       "        text-align: right;\n",
       "    }\n",
       "</style>\n",
       "<table border=\"1\" class=\"dataframe\">\n",
       "  <thead>\n",
       "    <tr style=\"text-align: right;\">\n",
       "      <th></th>\n",
       "      <th>x</th>\n",
       "    </tr>\n",
       "  </thead>\n",
       "  <tbody>\n",
       "    <tr>\n",
       "      <th>0</th>\n",
       "      <td>1</td>\n",
       "    </tr>\n",
       "    <tr>\n",
       "      <th>1</th>\n",
       "      <td>1</td>\n",
       "    </tr>\n",
       "    <tr>\n",
       "      <th>2</th>\n",
       "      <td>0</td>\n",
       "    </tr>\n",
       "    <tr>\n",
       "      <th>3</th>\n",
       "      <td>1</td>\n",
       "    </tr>\n",
       "    <tr>\n",
       "      <th>4</th>\n",
       "      <td>1</td>\n",
       "    </tr>\n",
       "    <tr>\n",
       "      <th>...</th>\n",
       "      <td>...</td>\n",
       "    </tr>\n",
       "    <tr>\n",
       "      <th>995</th>\n",
       "      <td>1</td>\n",
       "    </tr>\n",
       "    <tr>\n",
       "      <th>996</th>\n",
       "      <td>0</td>\n",
       "    </tr>\n",
       "    <tr>\n",
       "      <th>997</th>\n",
       "      <td>1</td>\n",
       "    </tr>\n",
       "    <tr>\n",
       "      <th>998</th>\n",
       "      <td>0</td>\n",
       "    </tr>\n",
       "    <tr>\n",
       "      <th>999</th>\n",
       "      <td>1</td>\n",
       "    </tr>\n",
       "  </tbody>\n",
       "</table>\n",
       "<p>1000 rows × 1 columns</p>\n",
       "</div>"
      ],
      "text/plain": [
       "     x\n",
       "0    1\n",
       "1    1\n",
       "2    0\n",
       "3    1\n",
       "4    1\n",
       "..  ..\n",
       "995  1\n",
       "996  0\n",
       "997  1\n",
       "998  0\n",
       "999  1\n",
       "\n",
       "[1000 rows x 1 columns]"
      ]
     },
     "execution_count": 59,
     "metadata": {},
     "output_type": "execute_result"
    }
   ],
   "source": [
    "training_data"
   ]
  },
  {
   "cell_type": "code",
   "execution_count": 60,
   "metadata": {},
   "outputs": [
    {
     "data": {
      "text/plain": [
       "(array([496.,   0.,   0.,   0.,   0.,   0.,   0.,   0.,   0.,   0.,   0.,\n",
       "          0.,   0.,   0.,   0.,   0.,   0.,   0.,   0.,   0.,   0.,   0.,\n",
       "          0.,   0.,   0.,   0.,   0.,   0.,   0.,   0.,   0.,   0.,   0.,\n",
       "          0.,   0.,   0.,   0.,   0.,   0.,   0.,   0.,   0.,   0.,   0.,\n",
       "          0.,   0.,   0.,   0.,   0., 504.]),\n",
       " array([0.  , 0.02, 0.04, 0.06, 0.08, 0.1 , 0.12, 0.14, 0.16, 0.18, 0.2 ,\n",
       "        0.22, 0.24, 0.26, 0.28, 0.3 , 0.32, 0.34, 0.36, 0.38, 0.4 , 0.42,\n",
       "        0.44, 0.46, 0.48, 0.5 , 0.52, 0.54, 0.56, 0.58, 0.6 , 0.62, 0.64,\n",
       "        0.66, 0.68, 0.7 , 0.72, 0.74, 0.76, 0.78, 0.8 , 0.82, 0.84, 0.86,\n",
       "        0.88, 0.9 , 0.92, 0.94, 0.96, 0.98, 1.  ]),\n",
       " <BarContainer object of 50 artists>)"
      ]
     },
     "execution_count": 60,
     "metadata": {},
     "output_type": "execute_result"
    },
    {
     "data": {
      "image/png": "[encoded data removed]",
      "text/plain": [
       "<Figure size 640x480 with 1 Axes>"
      ]
     },
     "metadata": {},
     "output_type": "display_data"
    }
   ],
   "source": [
    "plt.hist(training_data,bins=50)"
   ]
  },
  {
   "cell_type": "code",
   "execution_count": 65,
   "metadata": {},
   "outputs": [],
   "source": [
    "def bernaulli_nll(p):\n",
    "\n",
    "    log_pdf = s.bernoulli.logpmf(training_data,p)\n",
    "    return -np.mean(log_pdf)\n",
    "    "
   ]
  },
  {
   "cell_type": "code",
   "execution_count": 68,
   "metadata": {},
   "outputs": [],
   "source": [
    "def del_by_del_bernaulli_nll(p):\n",
    "\n",
    "    del_by_del_p =  np.mean((p_initial-training_data)/(p_initial*(1-p_initial)))\n",
    "\n",
    "    return del_by_del_p"
   ]
  },
  {
   "cell_type": "code",
   "execution_count": 69,
   "metadata": {},
   "outputs": [
    {
     "name": "stdout",
     "output_type": "stream",
     "text": [
      "Epoch # 1, NLL Value = 0.707038705633026\n",
      "Epoch # 2, NLL Value = 0.7058984392072468\n",
      "Epoch # 3, NLL Value = 0.7048551362125283\n",
      "Epoch # 4, NLL Value = 0.7038999874252112\n",
      "Epoch # 5, NLL Value = 0.7030250732524135\n",
      "Epoch # 6, NLL Value = 0.7022232598156072\n",
      "Epoch # 7, NLL Value = 0.7014881093530926\n",
      "Epoch # 8, NLL Value = 0.7008138026352194\n",
      "Epoch # 9, NLL Value = 0.7001950715096901\n",
      "Epoch # 10, NLL Value = 0.6996271400311729\n",
      "Epoch # 11, NLL Value = 0.6991056728991364\n",
      "Epoch # 12, NLL Value = 0.6986267301449698\n",
      "Epoch # 13, NLL Value = 0.6981867271853301\n",
      "Epoch # 14, NLL Value = 0.6977823995018322\n",
      "Epoch # 15, NLL Value = 0.6974107713243668\n",
      "Epoch # 16, NLL Value = 0.6970691277916976\n",
      "Epoch # 17, NLL Value = 0.696754990142568\n",
      "Epoch # 18, NLL Value = 0.6964660935566298\n",
      "Epoch # 19, NLL Value = 0.6962003673195329\n",
      "Epoch # 20, NLL Value = 0.6959559170326025\n",
      "Epoch # 21, NLL Value = 0.6957310086262178\n",
      "Epoch # 22, NLL Value = 0.6955240539686587\n",
      "Epoch # 23, NLL Value = 0.6953335978898035\n",
      "Epoch # 24, NLL Value = 0.6951583064625402\n",
      "Epoch # 25, NLL Value = 0.6949969564047515\n",
      "Epoch # 26, NLL Value = 0.6948484254818479\n",
      "Epoch # 27, NLL Value = 0.6947116838045055\n",
      "Epoch # 28, NLL Value = 0.6945857859288961\n",
      "Epoch # 29, NLL Value = 0.6944698636776139\n",
      "Epoch # 30, NLL Value = 0.6943631196089477\n",
      "Epoch # 31, NLL Value = 0.6942648210703548\n",
      "Epoch # 32, NLL Value = 0.694174294779135\n",
      "Epoch # 33, NLL Value = 0.6940909218795469\n",
      "Epoch # 34, NLL Value = 0.6940141334310722\n",
      "Epoch # 35, NLL Value = 0.6939434062873279\n",
      "Epoch # 36, NLL Value = 0.6938782593293485\n",
      "Epoch # 37, NLL Value = 0.6938182500206843\n",
      "Epoch # 38, NLL Value = 0.6937629712550502\n",
      "Epoch # 39, NLL Value = 0.69371204847018\n",
      "Epoch # 40, NLL Value = 0.6936651370041337\n",
      "Epoch # 41, NLL Value = 0.6936219196726012\n",
      "Epoch # 42, NLL Value = 0.6935821045478098\n",
      "Epoch # 43, NLL Value = 0.693545422921479\n",
      "Epoch # 44, NLL Value = 0.6935116274359039\n",
      "Epoch # 45, NLL Value = 0.6934804903687252\n",
      "Epoch # 46, NLL Value = 0.6934518020582676\n",
      "Epoch # 47, NLL Value = 0.6934253694575193\n",
      "Epoch # 48, NLL Value = 0.6934010148058912\n",
      "Epoch # 49, NLL Value = 0.6933785744088723\n",
      "Epoch # 50, NLL Value = 0.6933578975165594\n",
      "Epoch # 51, NLL Value = 0.6933388452928395\n",
      "Epoch # 52, NLL Value = 0.6933212898677154\n",
      "Epoch # 53, NLL Value = 0.6933051134659085\n",
      "Epoch # 54, NLL Value = 0.6932902076054752\n",
      "Epoch # 55, NLL Value = 0.693276472360687\n",
      "Epoch # 56, NLL Value = 0.6932638156839419\n",
      "Epoch # 57, NLL Value = 0.6932521527818806\n",
      "Epoch # 58, NLL Value = 0.6932414055413181\n",
      "Epoch # 59, NLL Value = 0.6932315020009459\n",
      "Epoch # 60, NLL Value = 0.6932223758651118\n",
      "Epoch # 61, NLL Value = 0.693213966056275\n",
      "Epoch # 62, NLL Value = 0.6932062163030307\n",
      "Epoch # 63, NLL Value = 0.6931990747608424\n",
      "Epoch # 64, NLL Value = 0.6931924936628597\n",
      "Epoch # 65, NLL Value = 0.6931864289984103\n",
      "Epoch # 66, NLL Value = 0.6931808402169569\n",
      "Epoch # 67, NLL Value = 0.693175689955484\n",
      "Epoch # 68, NLL Value = 0.6931709437874433\n",
      "Epoch # 69, NLL Value = 0.6931665699915478\n",
      "Epoch # 70, NLL Value = 0.6931625393388267\n",
      "Epoch # 71, NLL Value = 0.6931588248964958\n",
      "Epoch # 72, NLL Value = 0.6931554018473077\n",
      "Epoch # 73, NLL Value = 0.6931522473231494\n",
      "Epoch # 74, NLL Value = 0.6931493402517636\n",
      "Epoch # 75, NLL Value = 0.6931466612155502\n",
      "Epoch # 76, NLL Value = 0.6931441923214947\n",
      "Epoch # 77, NLL Value = 0.693141917081339\n",
      "Epoch # 78, NLL Value = 0.6931398203011915\n",
      "Epoch # 79, NLL Value = 0.6931378879798239\n",
      "Epoch # 80, NLL Value = 0.6931361072149744\n",
      "Epoch # 81, NLL Value = 0.6931344661170212\n",
      "Epoch # 82, NLL Value = 0.6931329537294464\n",
      "Epoch # 83, NLL Value = 0.6931315599555571\n",
      "Epoch # 84, NLL Value = 0.6931302754909663\n",
      "Epoch # 85, NLL Value = 0.693129091761381\n",
      "Epoch # 86, NLL Value = 0.6931280008652841\n"
     ]
    }
   ],
   "source": [
    "epsilon = 10**(-2)\n",
    "epoch_counter = 0\n",
    "p_initial = random.uniform(0.000000000000001,1)\n",
    "tol = 10**(-6)\n",
    "\n",
    "while True:\n",
    "\n",
    "    initial_gradients = del_by_del_bernaulli_nll(p_initial)\n",
    "\n",
    "    p_final = p_initial - (epsilon * initial_gradients)\n",
    "\n",
    "    nll_initial_value = bernaulli_nll(p_initial)\n",
    "    nll_final_value = bernaulli_nll(p_final)\n",
    "\n",
    "    if abs(nll_initial_value - nll_final_value) < tol:\n",
    "        break\n",
    "\n",
    "    epoch_counter += 1\n",
    "    p_initial = p_final\n",
    "\n",
    "    print(\"Epoch # {}, NLL Value = {}\".format(epoch_counter,nll_initial_value))"
   ]
  },
  {
   "cell_type": "code",
   "execution_count": 71,
   "metadata": {},
   "outputs": [
    {
     "data": {
      "text/plain": [
       "np.float64(0.5063331783665993)"
      ]
     },
     "execution_count": 71,
     "metadata": {},
     "output_type": "execute_result"
    }
   ],
   "source": [
    "p_final\n"
   ]
  },
  {
   "cell_type": "code",
   "execution_count": null,
   "metadata": {},
   "outputs": [],
   "source": []
  }
 ],
 "metadata": {
  "kernelspec": {
   "display_name": "Python 3",
   "language": "python",
   "name": "python3"
  },
  "language_info": {
   "codemirror_mode": {
    "name": "ipython",
    "version": 3
   },
   "file_extension": ".py",
   "mimetype": "text/x-python",
   "name": "python",
   "nbconvert_exporter": "python",
   "pygments_lexer": "ipython3",
   "version": "3.12.1"
  }
 },
 "nbformat": 4,
 "nbformat_minor": 2
}
